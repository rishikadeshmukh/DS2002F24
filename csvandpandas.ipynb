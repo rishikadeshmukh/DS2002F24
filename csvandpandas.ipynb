{
  "nbformat": 4,
  "nbformat_minor": 0,
  "metadata": {
    "colab": {
      "provenance": [],
      "authorship_tag": "ABX9TyNR787b9DIakdK0mCgG+yFK",
      "include_colab_link": true
    },
    "kernelspec": {
      "name": "python3",
      "display_name": "Python 3"
    },
    "language_info": {
      "name": "python"
    }
  },
  "cells": [
    {
      "cell_type": "markdown",
      "metadata": {
        "id": "view-in-github",
        "colab_type": "text"
      },
      "source": [
        "<a href=\"https://colab.research.google.com/github/rishikadeshmukh/DS2002F24/blob/main/csvandpandas.ipynb\" target=\"_parent\"><img src=\"https://colab.research.google.com/assets/colab-badge.svg\" alt=\"Open In Colab\"/></a>"
      ]
    },
    {
      "cell_type": "code",
      "execution_count": null,
      "metadata": {
        "id": "iNAa3XnDSwhr"
      },
      "outputs": [],
      "source": []
    },
    {
      "cell_type": "code",
      "source": [
        "import pandas as pd\n",
        "\n",
        "df = pd.read_csv('/content/acc_players-2324F.csv', header = 1)\n",
        "print(df.head())"
      ],
      "metadata": {
        "colab": {
          "base_uri": "https://localhost:8080/"
        },
        "id": "i02zf1z-TsQs",
        "outputId": "ea4e7260-bfc4-4dcc-f500-3cd0521ed730"
      },
      "execution_count": 6,
      "outputs": [
        {
          "output_type": "stream",
          "name": "stdout",
          "text": [
            "   Rk         Player Class Pos          School   G   MP  TRB  AST  STL  ...  \\\n",
            "0   1   Amaree Abram    SO   G    Georgia Tech  10  108   17   11    1  ...   \n",
            "1   2   Sola Adebisi    FR   F   Florida State   7    9    1    1    0  ...   \n",
            "2   3  Prince Aligbe    SO   F  Boston College  35  651  119   21   15  ...   \n",
            "3   4     Abe Atiyeh    SR   G  Boston College   4    6    0    0    0  ...   \n",
            "4   5    Zack Austin    JR   F      Pittsburgh  33  746  137   29   32  ...   \n",
            "\n",
            "   TOV  PF  PTS    FG%    2P%    3P%    FT%   PER   WS  BPM  \n",
            "0    9  10   34  0.262  0.318  0.200  0.615   4.1 -0.1 -6.4  \n",
            "1    1   1    2  0.500  0.500    NaN    NaN   3.5  0.0 -6.7  \n",
            "2   30  51  164  0.435  0.522  0.147  0.620   9.4  0.9 -1.3  \n",
            "3    1   0    3  0.333  0.000  1.000    NaN   1.1  0.0 -8.2  \n",
            "4   13  35  216  0.417  0.563  0.295  0.737  18.0  2.9  7.9  \n",
            "\n",
            "[5 rows x 21 columns]\n"
          ]
        }
      ]
    },
    {
      "cell_type": "code",
      "source": [
        "total_points = df['PTS'].sum()\n",
        "print(f\"Total points scored by all players combined: {total_points}\")\n"
      ],
      "metadata": {
        "colab": {
          "base_uri": "https://localhost:8080/"
        },
        "id": "A0j25wzHT6tP",
        "outputId": "c4892192-7a72-4c0d-e08e-4ea7750994a7"
      },
      "execution_count": 7,
      "outputs": [
        {
          "output_type": "stream",
          "name": "stdout",
          "text": [
            "Total points scored by all players combined: 38411\n"
          ]
        }
      ]
    },
    {
      "cell_type": "code",
      "source": [
        "most_minutes= df.loc[df['MP'].idxmax()]['Player']\n",
        "print(most_minutes)"
      ],
      "metadata": {
        "colab": {
          "base_uri": "https://localhost:8080/"
        },
        "id": "b632IhcRXfFA",
        "outputId": "803196ce-3f44-4c1f-db5e-144d6abc7477"
      },
      "execution_count": 9,
      "outputs": [
        {
          "output_type": "stream",
          "name": "stdout",
          "text": [
            "Casey Morsell\n"
          ]
        }
      ]
    },
    {
      "cell_type": "code",
      "source": [
        "rebounders = df[['Player', 'TRB']].sort_values(by='TRB', ascending=False).head(5)\n",
        "print(rebounders)"
      ],
      "metadata": {
        "colab": {
          "base_uri": "https://localhost:8080/"
        },
        "id": "Xiv4MU1QXuEh",
        "outputId": "489ce258-bc11-4066-f17b-92d1af139dde"
      },
      "execution_count": 19,
      "outputs": [
        {
          "output_type": "stream",
          "name": "stdout",
          "text": [
            "              Player  TRB\n",
            "5      Armando Bacot  380\n",
            "178  Ian Schieffelin  340\n",
            "90   Harrison Ingram  327\n",
            "44    Mohamed Diarra  311\n",
            "149    Norchad Omier  309\n"
          ]
        }
      ]
    },
    {
      "cell_type": "code",
      "source": [
        "playerfiltering_df = df[df['MP'] > 500]"
      ],
      "metadata": {
        "id": "hr2rP3yLYFZn"
      },
      "execution_count": 13,
      "outputs": []
    },
    {
      "cell_type": "code",
      "source": [
        "most_assists = playerfiltering_df.loc[playerfiltering_df['AST'].idxmax()]['Player']\n",
        "print(most_assists)"
      ],
      "metadata": {
        "colab": {
          "base_uri": "https://localhost:8080/"
        },
        "id": "EBRHshANYSSP",
        "outputId": "2e79707a-cc87-4683-f946-a615b3ff2983"
      },
      "execution_count": 18,
      "outputs": [
        {
          "output_type": "stream",
          "name": "stdout",
          "text": [
            "Reece Beekman\n"
          ]
        }
      ]
    },
    {
      "cell_type": "code",
      "source": [
        "top_3_assist_leads = playerfiltering_df[['Player', 'AST']].sort_values(by='AST', ascending=False).head(3)\n",
        "print(top_3_assist_leads)"
      ],
      "metadata": {
        "colab": {
          "base_uri": "https://localhost:8080/"
        },
        "id": "z8Bk4t_bYg2x",
        "outputId": "3ba1cbdc-c70f-4527-8876-c6c89cc71ed0"
      },
      "execution_count": 20,
      "outputs": [
        {
          "output_type": "stream",
          "name": "stdout",
          "text": [
            "             Player  AST\n",
            "7     Reece Beekman  212\n",
            "215  Jaeden Zackery  152\n",
            "21    Elliot Cadeau  150\n"
          ]
        }
      ]
    },
    {
      "cell_type": "code",
      "source": [
        "top_3_shotblockers = playerfiltering_df[['Player', 'BLK']].sort_values(by='BLK', ascending=False).head(3)\n",
        "print(top_3_shotblockers)"
      ],
      "metadata": {
        "colab": {
          "base_uri": "https://localhost:8080/"
        },
        "id": "QdfD6IEGZN1E",
        "outputId": "94ce2179-cfbe-4313-947e-91a1379744a9"
      },
      "execution_count": 21,
      "outputs": [
        {
          "output_type": "stream",
          "name": "stdout",
          "text": [
            "            Player  BLK\n",
            "51       Ryan Dunn   77\n",
            "157   Quinten Post   61\n",
            "5    Armando Bacot   56\n"
          ]
        }
      ]
    },
    {
      "cell_type": "code",
      "source": [
        "points = df.groupby('School')['PTS'].sum().reset_index()\n",
        "assists = df.groupby('School')['AST'].sum().reset_index()\n",
        "sorted_schools = points.sort_values(by='PTS', ascending=False)\n",
        "top_3= sorted_schools.head(3)\n",
        "\n",
        "print(\"Total points scored by each school:\")\n",
        "print(points)\n",
        "\n",
        "print(\"\\nTotal assists by each school:\")\n",
        "print(assists)\n",
        "\n",
        "print(\"\\nTop 3 schools by total points scored:\")\n",
        "print(top_3)\n",
        "\n"
      ],
      "metadata": {
        "colab": {
          "base_uri": "https://localhost:8080/"
        },
        "id": "zULFKfmVZtbN",
        "outputId": "f3da2288-a827-493b-fc53-e16602d06bcd"
      },
      "execution_count": 24,
      "outputs": [
        {
          "output_type": "stream",
          "name": "stdout",
          "text": [
            "Total points scored by each school:\n",
            "            School   PTS\n",
            "0   Boston College  2667\n",
            "1          Clemson  2785\n",
            "2             Duke  2830\n",
            "3    Florida State  2526\n",
            "4     Georgia Tech  2272\n",
            "5       Louisville  2304\n",
            "6       Miami (FL)  2424\n",
            "7         NC State  3101\n",
            "8   North Carolina  3032\n",
            "9       Notre Dame  2113\n",
            "10      Pittsburgh  2495\n",
            "11        Syracuse  2442\n",
            "12        Virginia  2140\n",
            "13   Virginia Tech  2547\n",
            "14     Wake Forest  2733\n",
            "\n",
            "Total assists by each school:\n",
            "            School  AST\n",
            "0   Boston College  509\n",
            "1          Clemson  533\n",
            "2             Duke  551\n",
            "3    Florida State  406\n",
            "4     Georgia Tech  425\n",
            "5       Louisville  356\n",
            "6       Miami (FL)  454\n",
            "7         NC State  536\n",
            "8   North Carolina  536\n",
            "9       Notre Dame  335\n",
            "10      Pittsburgh  452\n",
            "11        Syracuse  442\n",
            "12        Virginia  509\n",
            "13   Virginia Tech  514\n",
            "14     Wake Forest  429\n",
            "\n",
            "Top 3 schools by total points scored:\n",
            "           School   PTS\n",
            "7        NC State  3101\n",
            "8  North Carolina  3032\n",
            "2            Duke  2830\n"
          ]
        }
      ]
    },
    {
      "cell_type": "markdown",
      "source": [
        "**What did you learn about working with CSV files and pandas DataFrames in\n",
        "this assignment?**\n",
        "\n",
        "I learned how to load data from a CSV file into a pandas DataFrame using pd.read_csv(). This is a fundamental skill for any data analysis task, as CSV files are a common format for storing and sharing data. This skill is highly transferable to future projects where I might deal with large datasets in CSV or similar formats. Understanding how to efficiently load and inspect the data helps with the analysis.  I worked with the groupby() function to aggregate data by school and calculate total points and assists. This taught me how to group data by a categorical variable and compute summary statistics. Grouping and aggregation are powerful techniques in data analysis. They can be applied in various contexts, such as analyzing customer behavior for a business."
      ],
      "metadata": {
        "id": "DgqX3c_ubJxU"
      }
    },
    {
      "cell_type": "markdown",
      "source": [
        "**What was the most challenging aspect of this assignment, and how did you\n",
        "overcome it?**\n",
        "\n",
        "Initially, understanding how the data was structured and how each column related to player performance metrics was challenging. The abbreviations like MP, TRB, and PTS needed to be fully understood in terms of their relevance to basketball statistics. I took time to explore the dataset by using methods like df.head() and df.info() to inspect the column names and data types. I also researched basketball statistics to ensure I understood what each abbreviation meant and how to interpret them. While sorting data by points and filtering for specific criteria. Performing the aggregation for each school and calculating metrics such as total points and assists by grouping the data was challenging. I initially struggled with ensuring that the grouped results matched the expected output. I consulted pandas documentation and reviewed tutorials on how to use groupby() effectively.\n"
      ],
      "metadata": {
        "id": "RBcmlnJnb8Z_"
      }
    },
    {
      "cell_type": "markdown",
      "source": [
        "**How do you think the insights gained from analyzing ACC basketball statistics\n",
        "could be applied to other real-world datasets?**\n",
        "\n",
        "In the business world, analyzing employee performance metrics, sales data, or customer behavior is similar to basketball player performance analysis. For instance, instead of points and assists, a company might look at metrics like revenue generated or employee productivity. In manufacturing, companies can use data analysis to optimize production processes by analyzing metrics like machine downtime, production output, and defect rates. Similar to tracking player performance over time, manufacturing companies can track equipment performance and efficiency. The ability to clean, filter, and manipulate data is a fundamental skill in any data science project. This experience reinforces the importance of having clean, well-structured data to ensure accurate analysis. This project emphasized the importance of data-driven decision-making. By learning to extract meaningful insights from large datasets, I’m better prepared to tackle future challenges where objective analysis of data will guide critical business or research decisions."
      ],
      "metadata": {
        "id": "II694aXTc5XI"
      }
    }
  ]
}