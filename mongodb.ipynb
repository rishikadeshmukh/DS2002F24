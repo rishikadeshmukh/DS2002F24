{
  "nbformat": 4,
  "nbformat_minor": 0,
  "metadata": {
    "colab": {
      "provenance": [],
      "authorship_tag": "ABX9TyOA/ZuDUIMaPayO6rwrR/lO",
      "include_colab_link": true
    },
    "kernelspec": {
      "name": "python3",
      "display_name": "Python 3"
    },
    "language_info": {
      "name": "python"
    }
  },
  "cells": [
    {
      "cell_type": "markdown",
      "metadata": {
        "id": "view-in-github",
        "colab_type": "text"
      },
      "source": [
        "<a href=\"https://colab.research.google.com/github/rishikadeshmukh/DS2002F24/blob/main/mongodb.ipynb\" target=\"_parent\"><img src=\"https://colab.research.google.com/assets/colab-badge.svg\" alt=\"Open In Colab\"/></a>"
      ]
    },
    {
      "cell_type": "code",
      "execution_count": 28,
      "metadata": {
        "colab": {
          "base_uri": "https://localhost:8080/"
        },
        "collapsed": true,
        "id": "gzlRH8Y65vgH",
        "outputId": "9e24ffe0-f64e-418f-c217-dbf5949dfd5e"
      },
      "outputs": [
        {
          "output_type": "stream",
          "name": "stdout",
          "text": [
            "Requirement already satisfied: pymongo in /usr/local/lib/python3.10/dist-packages (4.10.1)\n",
            "Requirement already satisfied: certifi in /usr/local/lib/python3.10/dist-packages (2024.8.30)\n",
            "Requirement already satisfied: dnspython<3.0.0,>=1.16.0 in /usr/local/lib/python3.10/dist-packages (from pymongo) (2.7.0)\n"
          ]
        }
      ],
      "source": [
        "\n",
        "!pip install --upgrade pymongo certifi\n"
      ]
    },
    {
      "cell_type": "code",
      "source": [
        "# Install pymongo for MongoDB connection\n",
        "\n",
        "from pymongo.mongo_client import MongoClient\n",
        "from pymongo.server_api import ServerApi\n",
        "connection_string = \"mongodb+srv://ds2002student:<UVA2004>@cluster0.e96wy.mongodb.net/?retryWrites=true&w=majority&appName=Cluster0\"\n",
        "# Create a new client and connect to the server\n",
        "client = MongoClient(connection_strin)\n",
        "\n",
        "# Access the sample_mflix database and the movies collection\n",
        "db = client['sample_mflix']\n",
        "collection = db['movies']"
      ],
      "metadata": {
        "id": "1NGMbukv51ct"
      },
      "execution_count": 23,
      "outputs": []
    },
    {
      "cell_type": "code",
      "source": [
        "\n",
        "# Find one document from the movies collection\n",
        "document = collection.find_one()\n",
        "pprint.pprint(document)"
      ],
      "metadata": {
        "id": "yGltxvLS62XH"
      },
      "execution_count": null,
      "outputs": []
    },
    {
      "cell_type": "code",
      "source": [
        "#Exercise 1\n",
        "\n",
        "action_movie = collection.find_one({\"genres\": \"Action\"})\n",
        "movies_after_2000 = collection.find({\"year\": {\"$gt\": 2000}}).limit(5)\n",
        "high_rated_movies = collection.find({\"imdb.rating\": {\"$gt\": 8.5}}).limit(5)\n",
        "action_adventure_movies = collection.find({\"genres\": {\"$all\": [\"Action\", \"Adventure\"]}}).limit(5)\n",
        "\n",
        "print(\"Action Movie:\")\n",
        "pprint.pprint(action_movie)\n",
        "\n",
        "print(\"\\nMovies After 2000:\")\n",
        "for movie in movies_after_2000:\n",
        "    pprint.pprint(movie)\n",
        "\n",
        "print(\"\\nHigh Rated Movies:\")\n",
        "for movie in high_rated_movies:\n",
        "    pprint.pprint(movie)\n",
        "\n",
        "print(\"\\nAction Adventure Movies:\")\n",
        "for movie in action_adventure_movies:\n",
        "    pprint.pprint(movie)"
      ],
      "metadata": {
        "id": "LVBAj-OWGj0u"
      },
      "execution_count": null,
      "outputs": []
    },
    {
      "cell_type": "code",
      "source": [
        "#Exercise 2\n",
        "\n",
        "sorted_comedy_movies = collection.find({\"genres\": \"Comedy\"}).sort(\"imdb.rating\", -1).limit(5)\n",
        "sorted_drama_movies = collection.find({\"genres\": \"Drama\"}).sort(\"year\", 1).limit(5)\n",
        "\n",
        "print(\"Sorted Comedy Movies:\")\n",
        "for movie in sorted_comedy_movies:\n",
        "    pprint.pprint(movie)\n",
        "\n",
        "print(\"\\nSorted Drama Movies:\")\n",
        "for movie in sorted_drama_movies:\n",
        "    pprint.pprint(movie)\n"
      ],
      "metadata": {
        "id": "v1v_GP7gC5pF"
      },
      "execution_count": null,
      "outputs": []
    },
    {
      "cell_type": "code",
      "source": [
        "#Exercise 3\n",
        "\n",
        "avg_rating_by_genre = collection.aggregate([\n",
        "{\"$unwind\": \"$genres\"},\n",
        "{\"$group\": {\"_id\": \"$genres\", \"avg_rating\": {\"$avg\": \"$imdb.rating\"}}},\n",
        "{\"$sort\": {\"avg_rating\": -1}},\n",
        "{\"$limit\": 5}\n",
        "])\n",
        "top_directors = collection.aggregate([\n",
        "{\"$group\": {\"_id\": \"$directors\", \"avg_rating\": {\"$avg\": \"$imdb.rating\"}}},\n",
        "{\"$sort\": {\"avg_rating\": -1}},\n",
        "{\"$limit\": 5}\n",
        "])\n",
        "movies_per_year = collection.aggregate([\n",
        "{\"$group\": {\"_id\": \"$year\", \"total_movies\": {\"$sum\": 1}}},\n",
        "{\"$sort\": {\"_id\": 1}}\n",
        "])\n",
        "\n",
        "print(\"Average Rating by Genre:\")\n",
        "for result in avg_rating_by_genre:\n",
        "    pprint.pprint(result)\n",
        "\n",
        "print(\"\\nTop Directors:\")\n",
        "for result in top_directors:\n",
        "    pprint.pprint(result)\n",
        "\n",
        "print(\"\\nMovies Per Year:\")\n",
        "for result in movies_per_year:\n",
        "    pprint.pprint(result)"
      ],
      "metadata": {
        "id": "qQYW3iIDDUws"
      },
      "execution_count": null,
      "outputs": []
    },
    {
      "cell_type": "code",
      "source": [
        "#Exercise 4\n",
        "\n",
        "collection.update_one({\"title\": \"The Godfather\"}, {\"$set\": {\"imdb.rating\": 9.5}})\n",
        "collection.update_many({\"genres\": \"Horror\", \"imdb.rating\": {\"$exists\": False}}, {\"$set\":\n",
        "{\"imdb.rating\": 6.0}})\n",
        "collection.delete_many({\"year\": {\"$lt\": 1950}})\n",
        "\n",
        "print(\"Documents updated and deleted successfully.\")"
      ],
      "metadata": {
        "id": "hsOE_xg1F-1e"
      },
      "execution_count": null,
      "outputs": []
    },
    {
      "cell_type": "code",
      "source": [
        "#Exercise 5\n",
        "\n",
        "# Create a text index on the title field\n",
        "collection.create_index([(\"title\", \"text\")])\n",
        "# Find movies with 'love' in the title\n",
        "love_movies = collection.find({\"$text\": {\"$search\": \"love\"}})\n",
        "# Text search across title and plot, sorted by IMDb rating\n",
        "collection.create_index([(\"title\", \"text\"), (\"plot\", \"text\")])\n",
        "war_movies = collection.find({\"$text\": {\"$search\": \"war\"}}).sort(\"imdb.rating\", -\n",
        "1).limit(5)\n",
        "\n",
        "print(\"Love Movies:\")\n",
        "for movie in love_movies:\n",
        "    pprint.pprint(movie)\n",
        "\n",
        "print(\"\\nWar Movies:\")\n",
        "for movie in war_movies:\n",
        "    pprint.pprint(movie)\n"
      ],
      "metadata": {
        "id": "TsTSirzLGGBM"
      },
      "execution_count": null,
      "outputs": []
    },
    {
      "cell_type": "code",
      "source": [
        "#Exercise 6\n",
        "\n",
        "action_high_rated_movies = collection.find({\"genres\": \"Action\", \"imdb.rating\": {\"$gt\":\n",
        "8}}).sort(\"year\", -1)\n",
        "nolan_movies = collection.find({\"directors\": \"Christopher Nolan\", \"imdb.rating\": {\"$gt\":\n",
        "8}}).sort(\"imdb.rating\", -1).limit(3)\n",
        "\n",
        "print(\"Action High-Rated Movies:\")\n",
        "for movie in action_high_rated_movies:\n",
        "    pprint.pprint(movie)\n",
        "\n",
        "print(\"\\nNolan Movies:\")\n",
        "for movie in nolan_movies:\n",
        "    pprint.pprint(movie)"
      ],
      "metadata": {
        "id": "wTkfEsdqGOLP"
      },
      "execution_count": null,
      "outputs": []
    }
  ]
}