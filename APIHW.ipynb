{
  "cells": [
    {
      "cell_type": "markdown",
      "metadata": {
        "id": "view-in-github",
        "colab_type": "text"
      },
      "source": [
        "<a href=\"https://colab.research.google.com/github/rishikadeshmukh/DS2002F24/blob/main/APIHW.ipynb\" target=\"_parent\"><img src=\"https://colab.research.google.com/assets/colab-badge.svg\" alt=\"Open In Colab\"/></a>"
      ]
    },
    {
      "cell_type": "code",
      "execution_count": 11,
      "metadata": {
        "id": "0zRRSad3wlgD"
      },
      "outputs": [],
      "source": [
        "import requests\n",
        "import json\n",
        "import pandas as pd\n",
        "import os"
      ]
    },
    {
      "cell_type": "code",
      "execution_count": 9,
      "metadata": {
        "colab": {
          "base_uri": "https://localhost:8080/"
        },
        "id": "trwVrAjxwzs8",
        "outputId": "7aebf14c-f58f-459c-8dfd-34c01c2c7219"
      },
      "outputs": [
        {
          "name": "stdout",
          "output_type": "stream",
          "text": [
            "Enter the stock ticker symbol: MSFT\n"
          ]
        }
      ],
      "source": [
        "\n",
        "API_BASE_URL = \"https://yfapi.net/v6/finance/quote?region=US&lang=en&symbols=AAPL%2CBTC-USD%2CEURUSD%3DX\"\n",
        "TRENDING_URL= \"https://yfapi.net/v11/finance/quoteSummary/AAPL?lang=en&region=US&modules=defaultKeyStatistics%2CassetProfile\"\n",
        "TARGET_URL= \"https://yfapi.net/v11/finance/quoteSummary/AAPL?lang=en&region=US&modules=financialData\"\n",
        "API_KEY = \"apikey\"\n",
        "\n",
        "ticker = input(\"Enter the stock ticker symbol: \").upper()"
      ]
    },
    {
      "cell_type": "code",
      "execution_count": 12,
      "metadata": {
        "colab": {
          "base_uri": "https://localhost:8080/"
        },
        "id": "7fppErxsExib",
        "outputId": "ca025406-b035-4c5b-fca2-468067ffe641"
      },
      "outputs": [
        {
          "output_type": "stream",
          "name": "stdout",
          "text": [
            "API request successful!\n",
            "{\"quoteResponse\":{\"result\":[{\"language\":\"en-US\",\"region\":\"US\",\"quoteType\":\"EQUITY\",\"typeDisp\":\"Equity\",\"quoteSourceName\":\"Nasdaq Real Time Price\",\"triggerable\":true,\"customPriceAlertConfidence\":\"HIGH\",\"regularMarketChangePercent\":-0.7627944,\"regularMarketPrice\":428.02,\"exchange\":\"NMS\",\"shortName\":\"Microsoft Corporation\",\"longName\":\"Microsoft Corporation\",\"messageBoardId\":\"finmb_21835\",\"exchangeTimezoneName\":\"America/New_York\",\"exchangeTimezoneShortName\":\"EDT\",\"gmtOffSetMilliseconds\":-14400000,\"market\":\"us_market\",\"esgPopulated\":false,\"marketState\":\"CLOSED\",\"currency\":\"USD\",\"postMarketPrice\":427.32,\"postMarketChange\":-0.699982,\"regularMarketChange\":-3.2900085,\"regularMarketTime\":1727467201,\"regularMarketDayHigh\":431.83,\"regularMarketDayRange\":\"427.47 - 431.83\",\"regularMarketDayLow\":427.47,\"regularMarketVolume\":14896131,\"regularMarketPreviousClose\":431.31,\"bid\":427.88,\"ask\":428.02,\"bidSize\":1,\"askSize\":1,\"fullExchangeName\":\"NasdaqGS\",\"financialCurrency\":\"USD\",\"regularMarketOpen\":431.52,\"averageDailyVolume3Month\":19880549,\"averageDailyVolume10Day\":20340230,\"fiftyTwoWeekLowChange\":116.81,\"fiftyTwoWeekLowChangePercent\":0.37534142,\"fiftyTwoWeekRange\":\"311.21 - 468.35\",\"fiftyTwoWeekHighChange\":-40.330017,\"fiftyTwoWeekHighChangePercent\":-0.08611085,\"fiftyTwoWeekLow\":311.21,\"fiftyTwoWeekHigh\":468.35,\"fiftyTwoWeekChangePercent\":33.008076,\"dividendDate\":1733961600,\"earningsTimestamp\":1722369600,\"earningsTimestampStart\":1729594740,\"earningsTimestampEnd\":1730116800,\"earningsCallTimestampStart\":1722375000,\"earningsCallTimestampEnd\":1722375000,\"isEarningsDateEstimate\":true,\"trailingAnnualDividendRate\":3.0,\"trailingPE\":36.242165,\"dividendRate\":3.32,\"trailingAnnualDividendYield\":0.0069555542,\"dividendYield\":0.78,\"epsTrailingTwelveMonths\":11.81,\"epsForward\":15.21,\"epsCurrentYear\":13.07,\"priceEpsCurrentYear\":32.74828,\"sharesOutstanding\":7433039872,\"bookValue\":36.115,\"fiftyDayAverage\":419.9102,\"fiftyDayAverageChange\":8.109802,\"fiftyDayAverageChangePercent\":0.019313183,\"twoHundredDayAverage\":415.3893,\"twoHundredDayAverageChange\":12.630676,\"twoHundredDayAverageChangePercent\":0.03040684,\"marketCap\":3181489684480,\"forwardPE\":28.140696,\"priceToBook\":11.851584,\"sourceInterval\":15,\"exchangeDataDelayedBy\":0,\"averageAnalystRating\":\"1.7 - Buy\",\"tradeable\":false,\"cryptoTradeable\":false,\"hasPrePostMarketData\":true,\"firstTradeDateMilliseconds\":511108200000,\"priceHint\":2,\"postMarketChangePercent\":-0.163539,\"postMarketTime\":1727481598,\"displayName\":\"Microsoft\",\"symbol\":\"MSFT\"}],\"error\":null}}\n"
          ]
        }
      ],
      "source": [
        "#stock data API1\n",
        "querystring = {\"symbols\":ticker}\n",
        "\n",
        "headers = {\n",
        "    'x-api-key': API_KEY\n",
        "    }\n",
        "\n",
        "response = requests.request(\"GET\", API_BASE_URL, headers=headers, params=querystring)\n",
        "\n",
        "if response.status_code == 200:\n",
        "    print(\"API request successful!\")\n",
        "else:\n",
        "    print(f\"Failed to retrieve data: {response.status_code}\")\n",
        "print(response.text)"
      ]
    },
    {
      "cell_type": "code",
      "execution_count": 13,
      "metadata": {
        "id": "CSwDXT_-IT9H"
      },
      "outputs": [],
      "source": [
        "stock_json = response.json()\n",
        "result = stock_json['quoteResponse']['result'][0]\n",
        "\n",
        "symbol= result.get('symbol', 'N/A')\n",
        "longName = result.get('longName', 'N/A')\n",
        "regularMarketPrice = result.get('regularMarketPrice', 'N/A')\n",
        "fiftyTwoWeekHigh = result.get('fiftyTwoWeekHigh', 'N/A')\n",
        "fiftyTwoWeekLow = result.get('fiftyTwoWeekLow', 'N/A')"
      ]
    },
    {
      "cell_type": "code",
      "execution_count": 15,
      "metadata": {
        "colab": {
          "base_uri": "https://localhost:8080/"
        },
        "id": "Q01t8RZvIzV-",
        "outputId": "07188046-11cf-4623-c331-e94352d9302a"
      },
      "outputs": [
        {
          "output_type": "stream",
          "name": "stdout",
          "text": [
            "API request successful!\n",
            "{\"quoteSummary\":{\"result\":[{\"financialData\":{\"maxAge\":86400,\"currentPrice\":{\"raw\":428.02,\"fmt\":\"428.02\"},\"targetHighPrice\":{\"raw\":600.0,\"fmt\":\"600.00\"},\"targetLowPrice\":{\"raw\":440.0,\"fmt\":\"440.00\"},\"targetMeanPrice\":{\"raw\":496.38,\"fmt\":\"496.38\"},\"targetMedianPrice\":{\"raw\":500.0,\"fmt\":\"500.00\"},\"recommendationMean\":{\"raw\":1.7,\"fmt\":\"1.70\"},\"recommendationKey\":\"buy\",\"numberOfAnalystOpinions\":{\"raw\":47,\"fmt\":\"47\",\"longFmt\":\"47\"},\"totalCash\":{\"raw\":75531001856,\"fmt\":\"75.53B\",\"longFmt\":\"75,531,001,856\"},\"totalCashPerShare\":{\"raw\":10.162,\"fmt\":\"10.16\"},\"ebitda\":{\"raw\":129433001984,\"fmt\":\"129.43B\",\"longFmt\":\"129,433,001,984\"},\"totalDebt\":{\"raw\":97851998208,\"fmt\":\"97.85B\",\"longFmt\":\"97,851,998,208\"},\"quickRatio\":{\"raw\":1.141,\"fmt\":\"1.14\"},\"currentRatio\":{\"raw\":1.275,\"fmt\":\"1.27\"},\"totalRevenue\":{\"raw\":245122007040,\"fmt\":\"245.12B\",\"longFmt\":\"245,122,007,040\"},\"debtToEquity\":{\"raw\":36.447,\"fmt\":\"36.45%\"},\"revenuePerShare\":{\"raw\":32.986,\"fmt\":\"32.99\"},\"returnOnAssets\":{\"raw\":0.14802,\"fmt\":\"14.80%\"},\"returnOnEquity\":{\"raw\":0.37133,\"fmt\":\"37.13%\"},\"grossProfits\":{},\"freeCashflow\":{\"raw\":56705249280,\"fmt\":\"56.71B\",\"longFmt\":\"56,705,249,280\"},\"operatingCashflow\":{\"raw\":118547996672,\"fmt\":\"118.55B\",\"longFmt\":\"118,547,996,672\"},\"earningsGrowth\":{\"raw\":0.097,\"fmt\":\"9.70%\"},\"revenueGrowth\":{\"raw\":0.152,\"fmt\":\"15.20%\"},\"grossMargins\":{\"raw\":0.69764,\"fmt\":\"69.76%\"},\"ebitdaMargins\":{\"raw\":0.52804,\"fmt\":\"52.80%\"},\"operatingMargins\":{\"raw\":0.43143,\"fmt\":\"43.14%\"},\"profitMargins\":{\"raw\":0.35956,\"fmt\":\"35.96%\"},\"financialCurrency\":\"USD\"}}],\"error\":null}}\n"
          ]
        }
      ],
      "source": [
        "url = f\"https://yfapi.net/v11/finance/quoteSummary/{ticker}\"\n",
        "querystring = {\"modules\": \"financialData\"}\n",
        "headers = {\n",
        "    'x-api-key': API_KEY\n",
        "    }\n",
        "\n",
        "response = requests.request(\"GET\", url, headers=headers, params=querystring)\n",
        "\n",
        "if response.status_code == 200:\n",
        "    print(\"API request successful!\")\n",
        "else:\n",
        "    print(f\"Failed to retrieve data: {response.status_code}\")\n",
        "\n",
        "print(response.text)"
      ]
    },
    {
      "cell_type": "code",
      "execution_count": 16,
      "metadata": {
        "colab": {
          "base_uri": "https://localhost:8080/"
        },
        "id": "m4Zs6dVqJJHL",
        "outputId": "c6b3a26d-3bd4-438a-e9b4-1cf9640bddcf"
      },
      "outputs": [
        {
          "output_type": "stream",
          "name": "stdout",
          "text": [
            "496.38\n"
          ]
        }
      ],
      "source": [
        "#Target Mean Price API2\n",
        "target = response.json()\n",
        "target_mean_price = target.get('quoteSummary', {}).get('result', [])[0].get('financialData', {}).get('targetMeanPrice', {}).get('raw', 'N/A')\n",
        "print(target_mean_price)"
      ]
    },
    {
      "cell_type": "code",
      "execution_count": 17,
      "metadata": {
        "colab": {
          "base_uri": "https://localhost:8080/"
        },
        "id": "lOy4goVIJRvJ",
        "outputId": "b0f0a183-bba7-4d14-8fe7-0b74ab981c21"
      },
      "outputs": [
        {
          "output_type": "stream",
          "name": "stdout",
          "text": [
            "API request successful!\n",
            "{\"finance\":{\"result\":[{\"count\":20,\"quotes\":[{\"symbol\":\"AMSC\"},{\"symbol\":\"PWR\"},{\"symbol\":\"SNAP\"},{\"symbol\":\"SOL-USD\"},{\"symbol\":\"GC=F\"},{\"symbol\":\"NQ=F\"},{\"symbol\":\"VRT\"},{\"symbol\":\"BBD\"},{\"symbol\":\"EME\"},{\"symbol\":\"CL=F\"},{\"symbol\":\"^N225\"},{\"symbol\":\"ES=F\"},{\"symbol\":\"9988.HK\"},{\"symbol\":\"^IXIC\"},{\"symbol\":\"ROKU\"},{\"symbol\":\"JPY=X\"},{\"symbol\":\"BTC-USD\"},{\"symbol\":\"BTC=F\"},{\"symbol\":\"SI=F\"},{\"symbol\":\"PATH\"}],\"jobTimestamp\":1727648593880,\"startInterval\":202409292100}],\"error\":null}}\n"
          ]
        }
      ],
      "source": [
        "#Trending Current Stock API3\n",
        "url = \"https://yfapi.net/v1/finance/trending/US\"\n",
        "\n",
        "querystring = {\"region\":\"US\"}\n",
        "\n",
        "headers = {\n",
        "    'x-api-key': API_KEY\n",
        "    }\n",
        "\n",
        "response_trending = requests.get(url, headers=headers)\n",
        "\n",
        "if response.status_code == 200:\n",
        "    print(\"API request successful!\")\n",
        "else:\n",
        "    print(f\"Failed to retrieve data: {response.status_code}\")\n",
        "print(response_trending.text)"
      ]
    },
    {
      "cell_type": "code",
      "execution_count": 18,
      "metadata": {
        "colab": {
          "base_uri": "https://localhost:8080/"
        },
        "id": "Yh1-XKFEJZ4l",
        "outputId": "cd1984ee-4e02-4370-9852-ca1aea44e36b"
      },
      "outputs": [
        {
          "output_type": "stream",
          "name": "stdout",
          "text": [
            "AMSC\n",
            "PWR\n",
            "SNAP\n",
            "SOL-USD\n",
            "GC=F\n"
          ]
        }
      ],
      "source": [
        "trend = response_trending.json()\n",
        "result_trending = trend.get('finance', {}).get('result', [])[0].get('quotes', [])\n",
        "trendarr = []\n",
        "for i in result_trending[0:5]:\n",
        "    trendarr.append(i.get('symbol'))\n",
        "    print(f\"{i.get('symbol', 'N/A')}\")"
      ]
    },
    {
      "cell_type": "code",
      "execution_count": 19,
      "metadata": {
        "colab": {
          "base_uri": "https://localhost:8080/",
          "height": 80
        },
        "id": "TszayKMG-ldf",
        "outputId": "73b8ec0c-c311-49f2-90dd-3c475df38720"
      },
      "outputs": [
        {
          "output_type": "execute_result",
          "data": {
            "text/plain": [
              "  Ticker Name              Full Name  Current Market Price  Target Mean Price  \\\n",
              "0        MSFT  Microsoft Corporation                428.02             496.38   \n",
              "\n",
              "   52-Week High  52-Week Low                    Top 5 Trending  \n",
              "0        468.35       311.21  [AMSC, PWR, SNAP, SOL-USD, GC=F]  "
            ],
            "text/html": [
              "\n",
              "  <div id=\"df-474b657e-8e6d-4a9c-aabe-59f2d0f77a63\" class=\"colab-df-container\">\n",
              "    <div>\n",
              "<style scoped>\n",
              "    .dataframe tbody tr th:only-of-type {\n",
              "        vertical-align: middle;\n",
              "    }\n",
              "\n",
              "    .dataframe tbody tr th {\n",
              "        vertical-align: top;\n",
              "    }\n",
              "\n",
              "    .dataframe thead th {\n",
              "        text-align: right;\n",
              "    }\n",
              "</style>\n",
              "<table border=\"1\" class=\"dataframe\">\n",
              "  <thead>\n",
              "    <tr style=\"text-align: right;\">\n",
              "      <th></th>\n",
              "      <th>Ticker Name</th>\n",
              "      <th>Full Name</th>\n",
              "      <th>Current Market Price</th>\n",
              "      <th>Target Mean Price</th>\n",
              "      <th>52-Week High</th>\n",
              "      <th>52-Week Low</th>\n",
              "      <th>Top 5 Trending</th>\n",
              "    </tr>\n",
              "  </thead>\n",
              "  <tbody>\n",
              "    <tr>\n",
              "      <th>0</th>\n",
              "      <td>MSFT</td>\n",
              "      <td>Microsoft Corporation</td>\n",
              "      <td>428.02</td>\n",
              "      <td>496.38</td>\n",
              "      <td>468.35</td>\n",
              "      <td>311.21</td>\n",
              "      <td>[AMSC, PWR, SNAP, SOL-USD, GC=F]</td>\n",
              "    </tr>\n",
              "  </tbody>\n",
              "</table>\n",
              "</div>\n",
              "    <div class=\"colab-df-buttons\">\n",
              "\n",
              "  <div class=\"colab-df-container\">\n",
              "    <button class=\"colab-df-convert\" onclick=\"convertToInteractive('df-474b657e-8e6d-4a9c-aabe-59f2d0f77a63')\"\n",
              "            title=\"Convert this dataframe to an interactive table.\"\n",
              "            style=\"display:none;\">\n",
              "\n",
              "  <svg xmlns=\"http://www.w3.org/2000/svg\" height=\"24px\" viewBox=\"0 -960 960 960\">\n",
              "    <path d=\"M120-120v-720h720v720H120Zm60-500h600v-160H180v160Zm220 220h160v-160H400v160Zm0 220h160v-160H400v160ZM180-400h160v-160H180v160Zm440 0h160v-160H620v160ZM180-180h160v-160H180v160Zm440 0h160v-160H620v160Z\"/>\n",
              "  </svg>\n",
              "    </button>\n",
              "\n",
              "  <style>\n",
              "    .colab-df-container {\n",
              "      display:flex;\n",
              "      gap: 12px;\n",
              "    }\n",
              "\n",
              "    .colab-df-convert {\n",
              "      background-color: #E8F0FE;\n",
              "      border: none;\n",
              "      border-radius: 50%;\n",
              "      cursor: pointer;\n",
              "      display: none;\n",
              "      fill: #1967D2;\n",
              "      height: 32px;\n",
              "      padding: 0 0 0 0;\n",
              "      width: 32px;\n",
              "    }\n",
              "\n",
              "    .colab-df-convert:hover {\n",
              "      background-color: #E2EBFA;\n",
              "      box-shadow: 0px 1px 2px rgba(60, 64, 67, 0.3), 0px 1px 3px 1px rgba(60, 64, 67, 0.15);\n",
              "      fill: #174EA6;\n",
              "    }\n",
              "\n",
              "    .colab-df-buttons div {\n",
              "      margin-bottom: 4px;\n",
              "    }\n",
              "\n",
              "    [theme=dark] .colab-df-convert {\n",
              "      background-color: #3B4455;\n",
              "      fill: #D2E3FC;\n",
              "    }\n",
              "\n",
              "    [theme=dark] .colab-df-convert:hover {\n",
              "      background-color: #434B5C;\n",
              "      box-shadow: 0px 1px 3px 1px rgba(0, 0, 0, 0.15);\n",
              "      filter: drop-shadow(0px 1px 2px rgba(0, 0, 0, 0.3));\n",
              "      fill: #FFFFFF;\n",
              "    }\n",
              "  </style>\n",
              "\n",
              "    <script>\n",
              "      const buttonEl =\n",
              "        document.querySelector('#df-474b657e-8e6d-4a9c-aabe-59f2d0f77a63 button.colab-df-convert');\n",
              "      buttonEl.style.display =\n",
              "        google.colab.kernel.accessAllowed ? 'block' : 'none';\n",
              "\n",
              "      async function convertToInteractive(key) {\n",
              "        const element = document.querySelector('#df-474b657e-8e6d-4a9c-aabe-59f2d0f77a63');\n",
              "        const dataTable =\n",
              "          await google.colab.kernel.invokeFunction('convertToInteractive',\n",
              "                                                    [key], {});\n",
              "        if (!dataTable) return;\n",
              "\n",
              "        const docLinkHtml = 'Like what you see? Visit the ' +\n",
              "          '<a target=\"_blank\" href=https://colab.research.google.com/notebooks/data_table.ipynb>data table notebook</a>'\n",
              "          + ' to learn more about interactive tables.';\n",
              "        element.innerHTML = '';\n",
              "        dataTable['output_type'] = 'display_data';\n",
              "        await google.colab.output.renderOutput(dataTable, element);\n",
              "        const docLink = document.createElement('div');\n",
              "        docLink.innerHTML = docLinkHtml;\n",
              "        element.appendChild(docLink);\n",
              "      }\n",
              "    </script>\n",
              "  </div>\n",
              "\n",
              "\n",
              "    </div>\n",
              "  </div>\n"
            ],
            "application/vnd.google.colaboratory.intrinsic+json": {
              "type": "dataframe",
              "variable_name": "df",
              "summary": "{\n  \"name\": \"df\",\n  \"rows\": 1,\n  \"fields\": [\n    {\n      \"column\": \"Ticker Name\",\n      \"properties\": {\n        \"dtype\": \"string\",\n        \"num_unique_values\": 1,\n        \"samples\": [\n          \"MSFT\"\n        ],\n        \"semantic_type\": \"\",\n        \"description\": \"\"\n      }\n    },\n    {\n      \"column\": \"Full Name\",\n      \"properties\": {\n        \"dtype\": \"string\",\n        \"num_unique_values\": 1,\n        \"samples\": [\n          \"Microsoft Corporation\"\n        ],\n        \"semantic_type\": \"\",\n        \"description\": \"\"\n      }\n    },\n    {\n      \"column\": \"Current Market Price\",\n      \"properties\": {\n        \"dtype\": \"number\",\n        \"std\": null,\n        \"min\": 428.02,\n        \"max\": 428.02,\n        \"num_unique_values\": 1,\n        \"samples\": [\n          428.02\n        ],\n        \"semantic_type\": \"\",\n        \"description\": \"\"\n      }\n    },\n    {\n      \"column\": \"Target Mean Price\",\n      \"properties\": {\n        \"dtype\": \"number\",\n        \"std\": null,\n        \"min\": 496.38,\n        \"max\": 496.38,\n        \"num_unique_values\": 1,\n        \"samples\": [\n          496.38\n        ],\n        \"semantic_type\": \"\",\n        \"description\": \"\"\n      }\n    },\n    {\n      \"column\": \"52-Week High\",\n      \"properties\": {\n        \"dtype\": \"number\",\n        \"std\": null,\n        \"min\": 468.35,\n        \"max\": 468.35,\n        \"num_unique_values\": 1,\n        \"samples\": [\n          468.35\n        ],\n        \"semantic_type\": \"\",\n        \"description\": \"\"\n      }\n    },\n    {\n      \"column\": \"52-Week Low\",\n      \"properties\": {\n        \"dtype\": \"number\",\n        \"std\": null,\n        \"min\": 311.21,\n        \"max\": 311.21,\n        \"num_unique_values\": 1,\n        \"samples\": [\n          311.21\n        ],\n        \"semantic_type\": \"\",\n        \"description\": \"\"\n      }\n    },\n    {\n      \"column\": \"Top 5 Trending\",\n      \"properties\": {\n        \"dtype\": \"object\",\n        \"semantic_type\": \"\",\n        \"description\": \"\"\n      }\n    }\n  ]\n}"
            }
          },
          "metadata": {},
          "execution_count": 19
        }
      ],
      "source": [
        "data = {\n",
        "    \"Ticker Name\": [symbol],\n",
        "    \"Full Name\": [longName],\n",
        "    \"Current Market Price\": [regularMarketPrice],\n",
        "    \"Target Mean Price\": [target_mean_price],\n",
        "    \"52-Week High\": [fiftyTwoWeekHigh],\n",
        "    \"52-Week Low\": [fiftyTwoWeekLow],\n",
        "    \"Top 5 Trending\": [trendarr]\n",
        "}\n",
        "df = pd.DataFrame(data)\n",
        "df.head()\n"
      ]
    },
    {
      "cell_type": "code",
      "execution_count": 20,
      "metadata": {
        "colab": {
          "base_uri": "https://localhost:8080/"
        },
        "id": "bKpQPVAtKcPp",
        "outputId": "87f77032-8f0e-4258-8f26-257841595a72"
      },
      "outputs": [
        {
          "output_type": "stream",
          "name": "stdout",
          "text": [
            "\n",
            "Stock data saved to MSFT_stock_data.csv\n"
          ]
        }
      ],
      "source": [
        "csv_filename = f\"{ticker}_stock_data.csv\"\n",
        "df.to_csv(csv_filename, index=False)\n",
        "print(f\"\\nStock data saved to {csv_filename}\")"
      ]
    }
  ],
  "metadata": {
    "colab": {
      "provenance": [],
      "authorship_tag": "ABX9TyNLj0H3lJNimwFPP3+ipljK",
      "include_colab_link": true
    },
    "kernelspec": {
      "display_name": "Python 3",
      "name": "python3"
    },
    "language_info": {
      "name": "python"
    }
  },
  "nbformat": 4,
  "nbformat_minor": 0
}